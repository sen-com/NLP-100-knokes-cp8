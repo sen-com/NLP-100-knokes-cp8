{
  "nbformat": 4,
  "nbformat_minor": 0,
  "metadata": {
    "colab": {
      "name": "79. 多層ニューラルネットワーク.ipynb",
      "provenance": [],
      "authorship_tag": "ABX9TyMBawP06LS7BJBhtXE1Df7J",
      "include_colab_link": true
    },
    "kernelspec": {
      "name": "python3",
      "display_name": "Python 3"
    },
    "accelerator": "GPU"
  },
  "cells": [
    {
      "cell_type": "markdown",
      "metadata": {
        "id": "view-in-github",
        "colab_type": "text"
      },
      "source": [
        "<a href=\"https://colab.research.google.com/github/sen-com/NLP-100-knokes-cp8/blob/main/79_%E5%A4%9A%E5%B1%A4%E3%83%8B%E3%83%A5%E3%83%BC%E3%83%A9%E3%83%AB%E3%83%8D%E3%83%83%E3%83%88%E3%83%AF%E3%83%BC%E3%82%AF.ipynb\" target=\"_parent\"><img src=\"https://colab.research.google.com/assets/colab-badge.svg\" alt=\"Open In Colab\"/></a>"
      ]
    },
    {
      "cell_type": "code",
      "metadata": {
        "id": "Wgo0F4yokdZL",
        "outputId": "0bffdd41-7687-432d-b854-39516d8311db",
        "colab": {
          "base_uri": "https://localhost:8080/"
        }
      },
      "source": [
        "# 問題75のコードを改変し，各エポックのパラメータ更新が完了するたびに，\n",
        "# チェックポイント（学習途中のパラメータ（重み行列など）の値や最適化アルゴリズムの内部状態）をファイルに書き出せ．\n",
        "!nvidia-smi"
      ],
      "execution_count": 52,
      "outputs": [
        {
          "output_type": "stream",
          "text": [
            "Tue Nov 17 12:11:33 2020       \n",
            "+-----------------------------------------------------------------------------+\n",
            "| NVIDIA-SMI 455.38       Driver Version: 418.67       CUDA Version: 10.1     |\n",
            "|-------------------------------+----------------------+----------------------+\n",
            "| GPU  Name        Persistence-M| Bus-Id        Disp.A | Volatile Uncorr. ECC |\n",
            "| Fan  Temp  Perf  Pwr:Usage/Cap|         Memory-Usage | GPU-Util  Compute M. |\n",
            "|                               |                      |               MIG M. |\n",
            "|===============================+======================+======================|\n",
            "|   0  Tesla T4            Off  | 00000000:00:04.0 Off |                    0 |\n",
            "| N/A   75C    P0    34W /  70W |   1063MiB / 15079MiB |      0%      Default |\n",
            "|                               |                      |                 ERR! |\n",
            "+-------------------------------+----------------------+----------------------+\n",
            "                                                                               \n",
            "+-----------------------------------------------------------------------------+\n",
            "| Processes:                                                                  |\n",
            "|  GPU   GI   CI        PID   Type   Process name                  GPU Memory |\n",
            "|        ID   ID                                                   Usage      |\n",
            "|=============================================================================|\n",
            "|  No running processes found                                                 |\n",
            "+-----------------------------------------------------------------------------+\n"
          ],
          "name": "stdout"
        }
      ]
    },
    {
      "cell_type": "code",
      "metadata": {
        "id": "J-UgN3BWkI-y",
        "outputId": "38761574-bfc1-4064-a022-34edaaf0a879",
        "colab": {
          "base_uri": "https://localhost:8080/"
        }
      },
      "source": [
        "# データのダウンロード\n",
        "!wget https://archive.ics.uci.edu/ml/machine-learning-databases/00359/NewsAggregatorDataset.zip\n",
        "!unzip NewsAggregatorDataset.zip"
      ],
      "execution_count": 4,
      "outputs": [
        {
          "output_type": "stream",
          "text": [
            "--2020-11-17 09:40:59--  https://archive.ics.uci.edu/ml/machine-learning-databases/00359/NewsAggregatorDataset.zip\n",
            "Resolving archive.ics.uci.edu (archive.ics.uci.edu)... 128.195.10.252\n",
            "Connecting to archive.ics.uci.edu (archive.ics.uci.edu)|128.195.10.252|:443... connected.\n",
            "HTTP request sent, awaiting response... 200 OK\n",
            "Length: 29224203 (28M) [application/x-httpd-php]\n",
            "Saving to: ‘NewsAggregatorDataset.zip.1’\n",
            "\n",
            "NewsAggregatorDatas 100%[===================>]  27.87M  24.9MB/s    in 1.1s    \n",
            "\n",
            "2020-11-17 09:41:00 (24.9 MB/s) - ‘NewsAggregatorDataset.zip.1’ saved [29224203/29224203]\n",
            "\n",
            "Archive:  NewsAggregatorDataset.zip\n",
            "replace 2pageSessions.csv? [y]es, [n]o, [A]ll, [N]one, [r]ename: A\n",
            "  inflating: 2pageSessions.csv       \n",
            "  inflating: __MACOSX/._2pageSessions.csv  \n",
            "  inflating: newsCorpora.csv         \n",
            "  inflating: __MACOSX/._newsCorpora.csv  \n",
            "  inflating: readme.txt              \n",
            "  inflating: __MACOSX/._readme.txt   \n"
          ],
          "name": "stdout"
        }
      ]
    },
    {
      "cell_type": "code",
      "metadata": {
        "id": "MKBAlEM1lJKA"
      },
      "source": [
        "# 読込時のエラー回避のためダブルクォーテーションをシングルクォーテーションに置換\n",
        "!sed -e 's/\"/'\\''/g' ./newsCorpora.csv > ./newsCorpora_re.csv"
      ],
      "execution_count": 5,
      "outputs": []
    },
    {
      "cell_type": "code",
      "metadata": {
        "id": "QdectyI3lNpw",
        "outputId": "04b85f57-54f6-457b-9d9e-6f8d7284b706",
        "colab": {
          "base_uri": "https://localhost:8080/"
        }
      },
      "source": [
        "import pandas as pd\n",
        "from sklearn.model_selection import train_test_split\n",
        "\n",
        "# データの読込\n",
        "df = pd.read_csv('./newsCorpora_re.csv', header=None, sep='\\t', names=['ID', 'TITLE', 'URL', 'PUBLISHER', 'CATEGORY', 'STORY', 'HOSTNAME', 'TIMESTAMP'])\n",
        "\n",
        "# データの抽出\n",
        "df = df.loc[df['PUBLISHER'].isin(['Reuters', 'Huffington Post', 'Businessweek', 'Contactmusic.com', 'Daily Mail']), ['TITLE', 'CATEGORY']]\n",
        "\n",
        "# データの分割\n",
        "train, valid_test = train_test_split(df, test_size=0.2, shuffle=True, random_state=123, stratify=df['CATEGORY'])\n",
        "valid, test = train_test_split(valid_test, test_size=0.5, shuffle=True, random_state=123, stratify=valid_test['CATEGORY'])\n",
        "\n",
        "# 事例数の確認\n",
        "print('【学習データ】')\n",
        "print(train['CATEGORY'].value_counts())\n",
        "print('【検証データ】')\n",
        "print(valid['CATEGORY'].value_counts())\n",
        "print('【評価データ】')\n",
        "print(test['CATEGORY'].value_counts())"
      ],
      "execution_count": 6,
      "outputs": [
        {
          "output_type": "stream",
          "text": [
            "【学習データ】\n",
            "b    4501\n",
            "e    4235\n",
            "t    1220\n",
            "m     728\n",
            "Name: CATEGORY, dtype: int64\n",
            "【検証データ】\n",
            "b    563\n",
            "e    529\n",
            "t    153\n",
            "m     91\n",
            "Name: CATEGORY, dtype: int64\n",
            "【評価データ】\n",
            "b    563\n",
            "e    530\n",
            "t    152\n",
            "m     91\n",
            "Name: CATEGORY, dtype: int64\n"
          ],
          "name": "stdout"
        }
      ]
    },
    {
      "cell_type": "code",
      "metadata": {
        "id": "gey3sk3GlXhg"
      },
      "source": [
        "import gdown\n",
        "from gensim.models import KeyedVectors\n",
        "\n",
        "# 学習済み単語ベクトルのダウンロード\n",
        "url = \"https://drive.google.com/uc?id=0B7XkCwpI5KDYNlNUTTlSS21pQmM\"\n",
        "output = 'GoogleNews-vectors-negative300.bin.gz'\n",
        "gdown.download(url, output, quiet=True)\n",
        "\n",
        "# ダウンロードファイルのロード\n",
        "model = KeyedVectors.load_word2vec_format('GoogleNews-vectors-negative300.bin.gz', binary=True)"
      ],
      "execution_count": 7,
      "outputs": []
    },
    {
      "cell_type": "code",
      "metadata": {
        "id": "nn7dM237mE2g"
      },
      "source": [
        "import string\n",
        "import torch\n",
        "\n",
        "def transform_w2v(text):\n",
        "  table = str.maketrans(string.punctuation, ' '*len(string.punctuation))\n",
        "  words = text.translate(table).split()  # 記号をスペースに置換後、スペースで分割してリスト化\n",
        "  vec = [model[word] for word in words if word in model]  # 1語ずつベクトル化\n",
        "\n",
        "  return torch.tensor(sum(vec) / len(vec))   # 平均ベクトルをTensor型に変換して出力"
      ],
      "execution_count": 9,
      "outputs": []
    },
    {
      "cell_type": "code",
      "metadata": {
        "id": "J7A951q0nIfi",
        "outputId": "a6abe0cc-72b7-473d-a1a7-1825e2c75cfb",
        "colab": {
          "base_uri": "https://localhost:8080/"
        }
      },
      "source": [
        "# 特徴ベクトルの作成\n",
        "X_train = torch.stack([transform_w2v(text) for text in train['TITLE']])\n",
        "X_valid = torch.stack([transform_w2v(text) for text in valid['TITLE']])\n",
        "X_test = torch.stack([transform_w2v(text) for text in test['TITLE']])\n",
        "\n",
        "print(X_train.size())\n",
        "print(X_train)"
      ],
      "execution_count": 10,
      "outputs": [
        {
          "output_type": "stream",
          "text": [
            "torch.Size([10684, 300])\n",
            "tensor([[ 0.0837,  0.0056,  0.0068,  ...,  0.0751,  0.0433, -0.0868],\n",
            "        [ 0.0272,  0.0266, -0.0947,  ..., -0.1046, -0.0489, -0.0092],\n",
            "        [ 0.0577, -0.0159, -0.0780,  ..., -0.0421,  0.1229,  0.0876],\n",
            "        ...,\n",
            "        [ 0.0392, -0.0052,  0.0686,  ..., -0.0175,  0.0061, -0.0224],\n",
            "        [ 0.0798,  0.1017,  0.1066,  ..., -0.0752,  0.0623,  0.1138],\n",
            "        [ 0.1664,  0.0451,  0.0508,  ..., -0.0531, -0.0183, -0.0039]])\n"
          ],
          "name": "stdout"
        }
      ]
    },
    {
      "cell_type": "code",
      "metadata": {
        "id": "edg4YGt3o_HG",
        "outputId": "bdbadd8c-5eb1-46ef-e2fa-b0bad55ce634",
        "colab": {
          "base_uri": "https://localhost:8080/"
        }
      },
      "source": [
        "category_dict = {'b': 0, 't': 1, 'e':2, 'm':3}\n",
        "train['CATEGORY'].map(lambda x: category_dict[x]).values"
      ],
      "execution_count": 20,
      "outputs": [
        {
          "output_type": "execute_result",
          "data": {
            "text/plain": [
              "array([0, 1, 3, ..., 0, 3, 2])"
            ]
          },
          "metadata": {
            "tags": []
          },
          "execution_count": 20
        }
      ]
    },
    {
      "cell_type": "code",
      "metadata": {
        "id": "MqK5rMeMncO4",
        "outputId": "eba1e4ca-697b-4fed-fa5b-122b29718585",
        "colab": {
          "base_uri": "https://localhost:8080/"
        }
      },
      "source": [
        "# ラベルベクトルの作成\n",
        "category_dict = {'b': 0, 't': 1, 'e':2, 'm':3}\n",
        "y_train = torch.tensor(train['CATEGORY'].map(lambda x: category_dict[x]).values)\n",
        "y_valid = torch.tensor(valid['CATEGORY'].map(lambda x: category_dict[x]).values)\n",
        "y_test = torch.tensor(test['CATEGORY'].map(lambda x: category_dict[x]).values)\n",
        "\n",
        "print(y_train.size())\n",
        "print(y_train)"
      ],
      "execution_count": 21,
      "outputs": [
        {
          "output_type": "stream",
          "text": [
            "torch.Size([10684])\n",
            "tensor([0, 1, 3,  ..., 0, 3, 2])\n"
          ],
          "name": "stdout"
        }
      ]
    },
    {
      "cell_type": "code",
      "metadata": {
        "id": "nxL5SpcLphLB"
      },
      "source": [
        "# 保存\n",
        "torch.save(X_train, 'X_train.pt')\n",
        "torch.save(X_valid, 'X_valid.pt')\n",
        "torch.save(X_test, 'X_test.pt')\n",
        "torch.save(y_train, 'y_train.pt')\n",
        "torch.save(y_valid, 'y_valid.pt')\n",
        "torch.save(y_test, 'y_test.pt')"
      ],
      "execution_count": 22,
      "outputs": []
    },
    {
      "cell_type": "code",
      "metadata": {
        "id": "yv9j53Uxr1FF"
      },
      "source": [
        "from torch.nn import functional as F\n",
        "\n",
        "class MLPNet(nn.Module):\n",
        "  def __init__(self, input_size, mid_size, output_size, mid_layers):\n",
        "    super().__init__()\n",
        "    self.mid_layers = mid_layers\n",
        "    self.fc = nn.Linear(input_size, mid_size)\n",
        "    self.fc_mid = nn.Linear(mid_size, mid_size)\n",
        "    self.fc_out = nn.Linear(mid_size, output_size) \n",
        "    self.bn = nn.BatchNorm1d(mid_size)\n",
        "\n",
        "  def forward(self, x):\n",
        "    x = F.relu(self.fc(x))\n",
        "    for _ in range(self.mid_layers):\n",
        "      x = F.relu(self.bn(self.fc_mid(x)))\n",
        "    x = F.relu(self.fc_out(x))\n",
        "\n",
        "    return x"
      ],
      "execution_count": 73,
      "outputs": []
    },
    {
      "cell_type": "code",
      "metadata": {
        "id": "4I-iG0wCy1yY"
      },
      "source": [
        "from torch import optim\n",
        "\n",
        "def calculate_loss_and_accuracy(model, criterion, loader, device):\n",
        "  model.eval()\n",
        "  loss = 0.0\n",
        "  total = 0\n",
        "  correct = 0\n",
        "  with torch.no_grad():\n",
        "    for inputs, labels in loader:\n",
        "      inputs = inputs.to(device)\n",
        "      labels = labels.to(device)\n",
        "      outputs = model(inputs)\n",
        "      loss += criterion(outputs, labels).item()\n",
        "      pred = torch.argmax(outputs, dim=-1)\n",
        "      total += len(inputs)\n",
        "      correct += (pred == labels).sum().item()\n",
        "\n",
        "  return loss / len(loader), correct / total\n",
        "\n",
        "\n",
        "def train_model(dataset_train, dataset_valid, batch_size, model, criterion, optimizer, num_epochs, device=None):\n",
        "  # GPUに送る\n",
        "  model.to(device)\n",
        "\n",
        "  # dataloaderの作成\n",
        "  dataloader_train = DataLoader(dataset_train, batch_size=batch_size, shuffle=True)\n",
        "  dataloader_valid = DataLoader(dataset_valid, batch_size=len(dataset_valid), shuffle=False)\n",
        "\n",
        "  # スケジューラの設定\n",
        "  scheduler = optim.lr_scheduler.CosineAnnealingLR(optimizer, num_epochs, eta_min=1e-5, last_epoch=-1)\n",
        "\n",
        "  # 学習\n",
        "  log_train = []\n",
        "  log_valid = []\n",
        "  for epoch in range(num_epochs):\n",
        "    # 開始時刻の記録\n",
        "    s_time = time.time()\n",
        "\n",
        "    # 訓練モードに設定\n",
        "    model.train()\n",
        "    for inputs, labels in dataloader_train:\n",
        "      # 勾配をゼロで初期化\n",
        "      optimizer.zero_grad()\n",
        "\n",
        "      # 順伝播 + 誤差逆伝播 + 重み更新\n",
        "      inputs = inputs.to(device)\n",
        "      labels = labels.to(device)\n",
        "      outputs = model.forward(inputs)\n",
        "      loss = criterion(outputs, labels)\n",
        "      loss.backward()\n",
        "      optimizer.step()\n",
        "\n",
        "    # 損失と正解率の算出\n",
        "    loss_train, acc_train = calculate_loss_and_accuracy(model, criterion, dataloader_train, device)\n",
        "    loss_valid, acc_valid = calculate_loss_and_accuracy(model, criterion, dataloader_valid, device)\n",
        "    log_train.append([loss_train, acc_train])\n",
        "    log_valid.append([loss_valid, acc_valid])\n",
        "\n",
        "    # チェックポイントの保存\n",
        "    torch.save({'epoch': epoch, 'model_state_dict': model.state_dict(), 'optimizer_state_dict': optimizer.state_dict()}, f'checkpoint{epoch + 1}.pt')\n",
        "\n",
        "    # 終了時刻の記録\n",
        "    e_time = time.time()\n",
        "\n",
        "    # ログを出力\n",
        "    print(f'epoch: {epoch + 1}, loss_train: {loss_train:.4f}, accuracy_train: {acc_train:.4f}, loss_valid: {loss_valid:.4f}, accuracy_valid: {acc_valid:.4f}, {(e_time - s_time):.4f}sec') \n",
        "\n",
        "    # 検証データの損失が3エポック連続で低下しなかった場合は学習終了\n",
        "    if epoch > 2 and log_valid[epoch - 2][0] <= log_valid[epoch - 1][0] <= log_valid[epoch][0]:\n",
        "      break\n",
        "\n",
        "    # スケジューラを1ステップ進める\n",
        "    scheduler.step()\n",
        "\n",
        "  return {'train': log_train, 'valid': log_valid}"
      ],
      "execution_count": 89,
      "outputs": []
    },
    {
      "cell_type": "code",
      "metadata": {
        "id": "sbJaa7uRXDCr",
        "outputId": "72452506-ec8a-4001-9146-26a691a0a228",
        "colab": {
          "base_uri": "https://localhost:8080/"
        }
      },
      "source": [
        "# datasetの作成\n",
        "dataset_train = NewsDataset(X_train, y_train)\n",
        "dataset_valid = NewsDataset(X_valid, y_valid)\n",
        "\n",
        "# モデルの定義\n",
        "model = MLPNet(300, 300, 4, 1)\n",
        "\n",
        "# 損失関数の定義\n",
        "criterion = nn.CrossEntropyLoss()\n",
        "\n",
        "# オプティマイザの定義\n",
        "optimizer = torch.optim.SGD(model.parameters(), lr=1e-3)\n",
        "\n",
        "# デバイスの指定\n",
        "device = torch.device('cuda')\n",
        "\n",
        "# モデルの学習\n",
        "log = train_model(dataset_train, dataset_valid, 128, model, criterion, optimizer, 500, device)"
      ],
      "execution_count": 98,
      "outputs": [
        {
          "output_type": "stream",
          "text": [
            "epoch: 1, loss_train: 1.0933, accuracy_train: 0.7033, loss_valid: 1.0898, accuracy_valid: 0.7021, 0.3886sec\n",
            "epoch: 2, loss_train: 0.8324, accuracy_train: 0.7567, loss_valid: 0.8307, accuracy_valid: 0.7537, 0.3772sec\n",
            "epoch: 3, loss_train: 0.7351, accuracy_train: 0.7682, loss_valid: 0.7364, accuracy_valid: 0.7665, 0.3835sec\n",
            "epoch: 4, loss_train: 0.6813, accuracy_train: 0.7740, loss_valid: 0.6850, accuracy_valid: 0.7702, 0.3730sec\n",
            "epoch: 5, loss_train: 0.6459, accuracy_train: 0.7793, loss_valid: 0.6506, accuracy_valid: 0.7740, 0.3711sec\n",
            "epoch: 6, loss_train: 0.6183, accuracy_train: 0.7851, loss_valid: 0.6244, accuracy_valid: 0.7829, 0.3792sec\n",
            "epoch: 7, loss_train: 0.5951, accuracy_train: 0.7902, loss_valid: 0.6024, accuracy_valid: 0.7889, 0.3751sec\n",
            "epoch: 8, loss_train: 0.5777, accuracy_train: 0.7960, loss_valid: 0.5861, accuracy_valid: 0.7912, 0.3773sec\n",
            "epoch: 9, loss_train: 0.5608, accuracy_train: 0.8027, loss_valid: 0.5709, accuracy_valid: 0.7994, 0.3811sec\n",
            "epoch: 10, loss_train: 0.5464, accuracy_train: 0.8056, loss_valid: 0.5568, accuracy_valid: 0.8024, 0.3708sec\n",
            "epoch: 11, loss_train: 0.5310, accuracy_train: 0.8141, loss_valid: 0.5427, accuracy_valid: 0.8114, 0.3749sec\n",
            "epoch: 12, loss_train: 0.5149, accuracy_train: 0.8209, loss_valid: 0.5284, accuracy_valid: 0.8151, 0.3718sec\n",
            "epoch: 13, loss_train: 0.5004, accuracy_train: 0.8297, loss_valid: 0.5150, accuracy_valid: 0.8219, 0.3735sec\n",
            "epoch: 14, loss_train: 0.4822, accuracy_train: 0.8407, loss_valid: 0.4976, accuracy_valid: 0.8353, 0.3742sec\n",
            "epoch: 15, loss_train: 0.4658, accuracy_train: 0.8474, loss_valid: 0.4835, accuracy_valid: 0.8413, 0.3848sec\n",
            "epoch: 16, loss_train: 0.4534, accuracy_train: 0.8544, loss_valid: 0.4717, accuracy_valid: 0.8421, 0.3834sec\n",
            "epoch: 17, loss_train: 0.4407, accuracy_train: 0.8612, loss_valid: 0.4599, accuracy_valid: 0.8466, 0.3777sec\n",
            "epoch: 18, loss_train: 0.4304, accuracy_train: 0.8669, loss_valid: 0.4496, accuracy_valid: 0.8540, 0.3741sec\n",
            "epoch: 19, loss_train: 0.4162, accuracy_train: 0.8691, loss_valid: 0.4382, accuracy_valid: 0.8578, 0.3753sec\n",
            "epoch: 20, loss_train: 0.4069, accuracy_train: 0.8727, loss_valid: 0.4292, accuracy_valid: 0.8623, 0.3756sec\n",
            "epoch: 21, loss_train: 0.3997, accuracy_train: 0.8768, loss_valid: 0.4226, accuracy_valid: 0.8615, 0.3715sec\n",
            "epoch: 22, loss_train: 0.3889, accuracy_train: 0.8792, loss_valid: 0.4129, accuracy_valid: 0.8608, 0.3747sec\n",
            "epoch: 23, loss_train: 0.3805, accuracy_train: 0.8821, loss_valid: 0.4069, accuracy_valid: 0.8645, 0.3742sec\n",
            "epoch: 24, loss_train: 0.3731, accuracy_train: 0.8827, loss_valid: 0.4002, accuracy_valid: 0.8638, 0.3708sec\n",
            "epoch: 25, loss_train: 0.3686, accuracy_train: 0.8852, loss_valid: 0.3954, accuracy_valid: 0.8638, 0.3834sec\n",
            "epoch: 26, loss_train: 0.3618, accuracy_train: 0.8879, loss_valid: 0.3902, accuracy_valid: 0.8713, 0.3710sec\n",
            "epoch: 27, loss_train: 0.3546, accuracy_train: 0.8882, loss_valid: 0.3835, accuracy_valid: 0.8683, 0.3766sec\n",
            "epoch: 28, loss_train: 0.3497, accuracy_train: 0.8909, loss_valid: 0.3800, accuracy_valid: 0.8750, 0.3765sec\n",
            "epoch: 29, loss_train: 0.3426, accuracy_train: 0.8908, loss_valid: 0.3739, accuracy_valid: 0.8750, 0.3753sec\n",
            "epoch: 30, loss_train: 0.3389, accuracy_train: 0.8934, loss_valid: 0.3703, accuracy_valid: 0.8772, 0.3872sec\n",
            "epoch: 31, loss_train: 0.3343, accuracy_train: 0.8942, loss_valid: 0.3660, accuracy_valid: 0.8795, 0.3680sec\n",
            "epoch: 32, loss_train: 0.3296, accuracy_train: 0.8956, loss_valid: 0.3630, accuracy_valid: 0.8847, 0.3727sec\n",
            "epoch: 33, loss_train: 0.3248, accuracy_train: 0.8982, loss_valid: 0.3585, accuracy_valid: 0.8847, 0.3760sec\n",
            "epoch: 34, loss_train: 0.3212, accuracy_train: 0.9006, loss_valid: 0.3556, accuracy_valid: 0.8840, 0.3680sec\n",
            "epoch: 35, loss_train: 0.3171, accuracy_train: 0.9004, loss_valid: 0.3526, accuracy_valid: 0.8892, 0.3728sec\n",
            "epoch: 36, loss_train: 0.3133, accuracy_train: 0.9012, loss_valid: 0.3495, accuracy_valid: 0.8870, 0.3868sec\n",
            "epoch: 37, loss_train: 0.3101, accuracy_train: 0.9022, loss_valid: 0.3464, accuracy_valid: 0.8862, 0.3759sec\n",
            "epoch: 38, loss_train: 0.3076, accuracy_train: 0.9029, loss_valid: 0.3447, accuracy_valid: 0.8892, 0.3775sec\n",
            "epoch: 39, loss_train: 0.3031, accuracy_train: 0.9042, loss_valid: 0.3420, accuracy_valid: 0.8885, 0.3748sec\n",
            "epoch: 40, loss_train: 0.3003, accuracy_train: 0.9043, loss_valid: 0.3395, accuracy_valid: 0.8900, 0.3730sec\n",
            "epoch: 41, loss_train: 0.2975, accuracy_train: 0.9062, loss_valid: 0.3369, accuracy_valid: 0.8930, 0.3756sec\n",
            "epoch: 42, loss_train: 0.2939, accuracy_train: 0.9069, loss_valid: 0.3343, accuracy_valid: 0.8930, 0.3905sec\n",
            "epoch: 43, loss_train: 0.2918, accuracy_train: 0.9073, loss_valid: 0.3328, accuracy_valid: 0.8922, 0.3723sec\n",
            "epoch: 44, loss_train: 0.2897, accuracy_train: 0.9074, loss_valid: 0.3319, accuracy_valid: 0.8945, 0.3828sec\n",
            "epoch: 45, loss_train: 0.2881, accuracy_train: 0.9084, loss_valid: 0.3299, accuracy_valid: 0.8952, 0.3726sec\n",
            "epoch: 46, loss_train: 0.2857, accuracy_train: 0.9090, loss_valid: 0.3280, accuracy_valid: 0.8952, 0.3822sec\n",
            "epoch: 47, loss_train: 0.2836, accuracy_train: 0.9095, loss_valid: 0.3268, accuracy_valid: 0.8937, 0.3818sec\n",
            "epoch: 48, loss_train: 0.2801, accuracy_train: 0.9112, loss_valid: 0.3250, accuracy_valid: 0.8945, 0.3703sec\n",
            "epoch: 49, loss_train: 0.2785, accuracy_train: 0.9116, loss_valid: 0.3230, accuracy_valid: 0.8937, 0.3764sec\n",
            "epoch: 50, loss_train: 0.2761, accuracy_train: 0.9114, loss_valid: 0.3220, accuracy_valid: 0.8930, 0.3774sec\n",
            "epoch: 51, loss_train: 0.2746, accuracy_train: 0.9125, loss_valid: 0.3208, accuracy_valid: 0.8930, 0.3688sec\n",
            "epoch: 52, loss_train: 0.2723, accuracy_train: 0.9125, loss_valid: 0.3200, accuracy_valid: 0.8960, 0.3756sec\n",
            "epoch: 53, loss_train: 0.2705, accuracy_train: 0.9137, loss_valid: 0.3182, accuracy_valid: 0.8930, 0.3796sec\n",
            "epoch: 54, loss_train: 0.2690, accuracy_train: 0.9137, loss_valid: 0.3173, accuracy_valid: 0.8930, 0.3754sec\n",
            "epoch: 55, loss_train: 0.2671, accuracy_train: 0.9142, loss_valid: 0.3165, accuracy_valid: 0.8945, 0.3689sec\n",
            "epoch: 56, loss_train: 0.2645, accuracy_train: 0.9159, loss_valid: 0.3146, accuracy_valid: 0.8922, 0.3844sec\n",
            "epoch: 57, loss_train: 0.2639, accuracy_train: 0.9160, loss_valid: 0.3142, accuracy_valid: 0.8930, 0.3948sec\n",
            "epoch: 58, loss_train: 0.2631, accuracy_train: 0.9172, loss_valid: 0.3134, accuracy_valid: 0.8937, 0.3787sec\n",
            "epoch: 59, loss_train: 0.2599, accuracy_train: 0.9169, loss_valid: 0.3117, accuracy_valid: 0.8930, 0.3707sec\n",
            "epoch: 60, loss_train: 0.2589, accuracy_train: 0.9173, loss_valid: 0.3117, accuracy_valid: 0.8930, 0.3696sec\n",
            "epoch: 61, loss_train: 0.2568, accuracy_train: 0.9182, loss_valid: 0.3103, accuracy_valid: 0.8922, 0.3760sec\n",
            "epoch: 62, loss_train: 0.2554, accuracy_train: 0.9188, loss_valid: 0.3095, accuracy_valid: 0.8960, 0.3785sec\n",
            "epoch: 63, loss_train: 0.2559, accuracy_train: 0.9193, loss_valid: 0.3093, accuracy_valid: 0.8945, 0.3817sec\n",
            "epoch: 64, loss_train: 0.2540, accuracy_train: 0.9199, loss_valid: 0.3083, accuracy_valid: 0.8930, 0.3729sec\n",
            "epoch: 65, loss_train: 0.2519, accuracy_train: 0.9199, loss_valid: 0.3076, accuracy_valid: 0.8937, 0.3762sec\n",
            "epoch: 66, loss_train: 0.2506, accuracy_train: 0.9204, loss_valid: 0.3070, accuracy_valid: 0.8945, 0.3840sec\n",
            "epoch: 67, loss_train: 0.2487, accuracy_train: 0.9205, loss_valid: 0.3060, accuracy_valid: 0.8952, 0.3770sec\n",
            "epoch: 68, loss_train: 0.2479, accuracy_train: 0.9220, loss_valid: 0.3053, accuracy_valid: 0.8952, 0.3771sec\n",
            "epoch: 69, loss_train: 0.2463, accuracy_train: 0.9220, loss_valid: 0.3052, accuracy_valid: 0.8960, 0.3881sec\n",
            "epoch: 70, loss_train: 0.2451, accuracy_train: 0.9220, loss_valid: 0.3038, accuracy_valid: 0.8952, 0.3874sec\n",
            "epoch: 71, loss_train: 0.2438, accuracy_train: 0.9225, loss_valid: 0.3033, accuracy_valid: 0.8960, 0.3740sec\n",
            "epoch: 72, loss_train: 0.2422, accuracy_train: 0.9233, loss_valid: 0.3025, accuracy_valid: 0.8975, 0.3736sec\n",
            "epoch: 73, loss_train: 0.2416, accuracy_train: 0.9226, loss_valid: 0.3030, accuracy_valid: 0.8960, 0.3796sec\n",
            "epoch: 74, loss_train: 0.2404, accuracy_train: 0.9239, loss_valid: 0.3020, accuracy_valid: 0.8960, 0.3799sec\n",
            "epoch: 75, loss_train: 0.2406, accuracy_train: 0.9243, loss_valid: 0.3019, accuracy_valid: 0.8975, 0.3703sec\n",
            "epoch: 76, loss_train: 0.2374, accuracy_train: 0.9239, loss_valid: 0.3006, accuracy_valid: 0.8975, 0.3773sec\n",
            "epoch: 77, loss_train: 0.2370, accuracy_train: 0.9247, loss_valid: 0.3002, accuracy_valid: 0.8952, 0.3722sec\n",
            "epoch: 78, loss_train: 0.2356, accuracy_train: 0.9250, loss_valid: 0.2999, accuracy_valid: 0.8967, 0.3681sec\n",
            "epoch: 79, loss_train: 0.2341, accuracy_train: 0.9259, loss_valid: 0.2998, accuracy_valid: 0.8982, 0.3776sec\n",
            "epoch: 80, loss_train: 0.2329, accuracy_train: 0.9262, loss_valid: 0.2994, accuracy_valid: 0.8982, 0.3777sec\n",
            "epoch: 81, loss_train: 0.2325, accuracy_train: 0.9265, loss_valid: 0.2981, accuracy_valid: 0.8982, 0.3755sec\n",
            "epoch: 82, loss_train: 0.2311, accuracy_train: 0.9266, loss_valid: 0.2983, accuracy_valid: 0.8960, 0.3728sec\n",
            "epoch: 83, loss_train: 0.2301, accuracy_train: 0.9271, loss_valid: 0.2979, accuracy_valid: 0.8975, 0.3704sec\n",
            "epoch: 84, loss_train: 0.2292, accuracy_train: 0.9271, loss_valid: 0.2975, accuracy_valid: 0.8982, 0.3798sec\n",
            "epoch: 85, loss_train: 0.2281, accuracy_train: 0.9279, loss_valid: 0.2976, accuracy_valid: 0.8975, 0.3740sec\n",
            "epoch: 86, loss_train: 0.2270, accuracy_train: 0.9283, loss_valid: 0.2974, accuracy_valid: 0.8967, 0.3864sec\n",
            "epoch: 87, loss_train: 0.2272, accuracy_train: 0.9284, loss_valid: 0.2969, accuracy_valid: 0.8975, 0.4019sec\n",
            "epoch: 88, loss_train: 0.2254, accuracy_train: 0.9284, loss_valid: 0.2960, accuracy_valid: 0.8982, 0.3750sec\n",
            "epoch: 89, loss_train: 0.2245, accuracy_train: 0.9295, loss_valid: 0.2954, accuracy_valid: 0.8990, 0.3792sec\n",
            "epoch: 90, loss_train: 0.2242, accuracy_train: 0.9291, loss_valid: 0.2963, accuracy_valid: 0.8967, 0.3669sec\n",
            "epoch: 91, loss_train: 0.2214, accuracy_train: 0.9299, loss_valid: 0.2949, accuracy_valid: 0.8967, 0.3783sec\n",
            "epoch: 92, loss_train: 0.2207, accuracy_train: 0.9304, loss_valid: 0.2949, accuracy_valid: 0.8990, 0.3749sec\n",
            "epoch: 93, loss_train: 0.2211, accuracy_train: 0.9308, loss_valid: 0.2945, accuracy_valid: 0.8967, 0.3740sec\n",
            "epoch: 94, loss_train: 0.2197, accuracy_train: 0.9310, loss_valid: 0.2951, accuracy_valid: 0.8967, 0.3669sec\n",
            "epoch: 95, loss_train: 0.2181, accuracy_train: 0.9310, loss_valid: 0.2939, accuracy_valid: 0.8997, 0.3794sec\n",
            "epoch: 96, loss_train: 0.2168, accuracy_train: 0.9323, loss_valid: 0.2933, accuracy_valid: 0.9012, 0.3852sec\n",
            "epoch: 97, loss_train: 0.2172, accuracy_train: 0.9327, loss_valid: 0.2936, accuracy_valid: 0.8975, 0.3884sec\n",
            "epoch: 98, loss_train: 0.2162, accuracy_train: 0.9331, loss_valid: 0.2932, accuracy_valid: 0.8982, 0.3746sec\n",
            "epoch: 99, loss_train: 0.2151, accuracy_train: 0.9330, loss_valid: 0.2930, accuracy_valid: 0.9004, 0.3764sec\n",
            "epoch: 100, loss_train: 0.2141, accuracy_train: 0.9332, loss_valid: 0.2930, accuracy_valid: 0.8997, 0.3850sec\n",
            "epoch: 101, loss_train: 0.2154, accuracy_train: 0.9335, loss_valid: 0.2926, accuracy_valid: 0.9004, 0.3750sec\n",
            "epoch: 102, loss_train: 0.2129, accuracy_train: 0.9334, loss_valid: 0.2933, accuracy_valid: 0.8960, 0.8527sec\n",
            "epoch: 103, loss_train: 0.2120, accuracy_train: 0.9335, loss_valid: 0.2920, accuracy_valid: 0.9004, 0.3732sec\n",
            "epoch: 104, loss_train: 0.2118, accuracy_train: 0.9339, loss_valid: 0.2918, accuracy_valid: 0.9019, 0.3785sec\n",
            "epoch: 105, loss_train: 0.2102, accuracy_train: 0.9340, loss_valid: 0.2918, accuracy_valid: 0.8975, 0.3726sec\n",
            "epoch: 106, loss_train: 0.2091, accuracy_train: 0.9344, loss_valid: 0.2916, accuracy_valid: 0.8982, 0.3829sec\n",
            "epoch: 107, loss_train: 0.2080, accuracy_train: 0.9345, loss_valid: 0.2913, accuracy_valid: 0.8997, 0.3820sec\n",
            "epoch: 108, loss_train: 0.2079, accuracy_train: 0.9349, loss_valid: 0.2925, accuracy_valid: 0.8967, 0.3747sec\n",
            "epoch: 109, loss_train: 0.2070, accuracy_train: 0.9349, loss_valid: 0.2917, accuracy_valid: 0.8982, 0.3789sec\n",
            "epoch: 110, loss_train: 0.2066, accuracy_train: 0.9355, loss_valid: 0.2912, accuracy_valid: 0.8997, 0.3699sec\n",
            "epoch: 111, loss_train: 0.2051, accuracy_train: 0.9355, loss_valid: 0.2911, accuracy_valid: 0.8975, 0.3716sec\n",
            "epoch: 112, loss_train: 0.2042, accuracy_train: 0.9359, loss_valid: 0.2909, accuracy_valid: 0.8952, 0.3874sec\n",
            "epoch: 113, loss_train: 0.2045, accuracy_train: 0.9361, loss_valid: 0.2920, accuracy_valid: 0.9012, 0.3714sec\n",
            "epoch: 114, loss_train: 0.2039, accuracy_train: 0.9365, loss_valid: 0.2906, accuracy_valid: 0.8997, 0.3704sec\n",
            "epoch: 115, loss_train: 0.2017, accuracy_train: 0.9359, loss_valid: 0.2908, accuracy_valid: 0.8967, 0.3759sec\n",
            "epoch: 116, loss_train: 0.2026, accuracy_train: 0.9370, loss_valid: 0.2918, accuracy_valid: 0.8975, 0.3719sec\n"
          ],
          "name": "stdout"
        }
      ]
    },
    {
      "cell_type": "code",
      "metadata": {
        "id": "90jgOH4TaiOV",
        "outputId": "110ed11a-a531-47fc-ec58-6debad04566d",
        "colab": {
          "base_uri": "https://localhost:8080/",
          "height": 334
        }
      },
      "source": [
        "fig, ax = plt.subplots(1, 2, figsize=(15, 5))\n",
        "ax[0].plot(np.array(log['train']).T[0], label='train')\n",
        "ax[0].plot(np.array(log['valid']).T[0], label='valid')\n",
        "ax[0].set_xlabel('epoch')\n",
        "ax[0].set_ylabel('loss')\n",
        "ax[0].legend()\n",
        "ax[1].plot(np.array(log['train']).T[1], label='train')\n",
        "ax[1].plot(np.array(log['valid']).T[1], label='valid')\n",
        "ax[1].set_xlabel('epoch')\n",
        "ax[1].set_ylabel('accuracy')\n",
        "ax[1].legend()\n",
        "plt.show()"
      ],
      "execution_count": 99,
      "outputs": [
        {
          "output_type": "display_data",
          "data": {
            "image/png": "[encoded data removed]",
            "text/plain": [
              "<Figure size 1080x360 with 2 Axes>"
            ]
          },
          "metadata": {
            "tags": [],
            "needs_background": "light"
          }
        }
      ]
    },
    {
      "cell_type": "code",
      "metadata": {
        "id": "mSYdKh7rcS3G"
      },
      "source": [
        "def calculate_accuracy(model, loader, device):\n",
        "  model.eval()\n",
        "  total = 0\n",
        "  correct = 0\n",
        "  with torch.no_grad():\n",
        "    for inputs, labels in loader:\n",
        "      inputs = inputs.to(device)\n",
        "      labels = labels.to(device)\n",
        "      outputs = model(inputs)\n",
        "      pred = torch.argmax(outputs, dim=-1)\n",
        "      total += len(inputs)\n",
        "      correct += (pred == labels).sum().item()\n",
        "\n",
        "  return correct / total"
      ],
      "execution_count": 100,
      "outputs": []
    },
    {
      "cell_type": "code",
      "metadata": {
        "id": "pDaCt1HrcMSj",
        "outputId": "7277ae23-a227-4110-8086-7ed53fcbfa13",
        "colab": {
          "base_uri": "https://localhost:8080/"
        }
      },
      "source": [
        "# 正解率の確認\n",
        "acc_train = calculate_accuracy(model, dataloader_train, device)\n",
        "acc_test = calculate_accuracy(model, dataloader_test, device)\n",
        "print(f'正解率（学習データ）：{acc_train:.3f}')\n",
        "print(f'正解率（評価データ）：{acc_test:.3f}')"
      ],
      "execution_count": 101,
      "outputs": [
        {
          "output_type": "stream",
          "text": [
            "正解率（学習データ）：0.937\n",
            "正解率（評価データ）：0.905\n"
          ],
          "name": "stdout"
        }
      ]
    }
  ]
}